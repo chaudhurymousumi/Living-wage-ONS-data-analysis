{
  "nbformat": 4,
  "nbformat_minor": 0,
  "metadata": {
    "colab": {
      "name": "livingwageONSdata.ipynb",
      "provenance": []
    },
    "kernelspec": {
      "name": "python3",
      "display_name": "Python 3"
    },
    "language_info": {
      "name": "python"
    }
  },
  "cells": [
    {
      "cell_type": "code",
      "execution_count": 45,
      "metadata": {
        "colab": {
          "base_uri": "https://localhost:8080/"
        },
        "id": "D1g1bs7_WGdJ",
        "outputId": "8f4141a3-ccc3-42c9-e396-9244ce4c7c8b"
      },
      "outputs": [
        {
          "output_type": "stream",
          "name": "stdout",
          "text": [
            "Drive already mounted at /content/drive; to attempt to forcibly remount, call drive.mount(\"/content/drive\", force_remount=True).\n"
          ]
        }
      ],
      "source": [
        "# mounting Google Drive\n",
        "from google.colab import drive\n",
        "drive.mount('/content/drive')"
      ]
    },
    {
      "cell_type": "code",
      "source": [
        "!pip3 install pyspark"
      ],
      "metadata": {
        "colab": {
          "base_uri": "https://localhost:8080/"
        },
        "id": "HBHxBeQyYeAF",
        "outputId": "74ec0b3a-830f-49da-90d1-a04ccec33429"
      },
      "execution_count": 46,
      "outputs": [
        {
          "output_type": "stream",
          "name": "stdout",
          "text": [
            "Looking in indexes: https://pypi.org/simple, https://us-python.pkg.dev/colab-wheels/public/simple/\n",
            "Requirement already satisfied: pyspark in /usr/local/lib/python3.7/dist-packages (3.3.0)\n",
            "Requirement already satisfied: py4j==0.10.9.5 in /usr/local/lib/python3.7/dist-packages (from pyspark) (0.10.9.5)\n"
          ]
        }
      ]
    },
    {
      "cell_type": "code",
      "source": [
        "from pyspark.sql import SparkSession\n",
        "spark = SparkSession.builder.master(\"local[*]\").appName('Living wage ONS data analysis').getOrCreate()"
      ],
      "metadata": {
        "id": "4eu8LR3IZgQS"
      },
      "execution_count": 47,
      "outputs": []
    },
    {
      "cell_type": "code",
      "source": [
        "ons_df = spark.read.option(\"header\", \"true\").csv(\"/content/drive/MyDrive/ONS data Living wage/ONSdata1.csv\")"
      ],
      "metadata": {
        "id": "sls28x17Z6ev"
      },
      "execution_count": 48,
      "outputs": []
    },
    {
      "cell_type": "code",
      "source": [
        "ons_df.show()"
      ],
      "metadata": {
        "id": "vcgnS0H-aHVP"
      },
      "execution_count": null,
      "outputs": []
    },
    {
      "cell_type": "code",
      "source": [
        "ons_df.select('Areaname').groupBy('Areaname').count().orderBy('count', ascending=False).show()"
      ],
      "metadata": {
        "colab": {
          "base_uri": "https://localhost:8080/"
        },
        "id": "DuucHyvGRqry",
        "outputId": "2a5f1901-73e4-4cb4-b31a-25f5e26fac5e"
      },
      "execution_count": 50,
      "outputs": [
        {
          "output_type": "stream",
          "name": "stdout",
          "text": [
            "+--------------------+-----+\n",
            "|            Areaname|count|\n",
            "+--------------------+-----+\n",
            "|             Croydon|    1|\n",
            "|          Wandsworth|    1|\n",
            "|              Bexley|    1|\n",
            "|             Lambeth|    1|\n",
            "|Barking and Dagenham|    1|\n",
            "|              Camden|    1|\n",
            "|           Greenwich|    1|\n",
            "|              Newham|    1|\n",
            "|              London|    1|\n",
            "|       Tower Hamlets|    1|\n",
            "|              Barnet|    1|\n",
            "|            Hounslow|    1|\n",
            "|              Harrow|    1|\n",
            "|Kensington and Ch...|    1|\n",
            "|           Islington|    1|\n",
            "|               Brent|    1|\n",
            "|            Haringey|    1|\n",
            "|             Bromley|    1|\n",
            "|              Merton|    1|\n",
            "|         Westminster|    1|\n",
            "+--------------------+-----+\n",
            "only showing top 20 rows\n",
            "\n"
          ]
        }
      ]
    },
    {
      "cell_type": "markdown",
      "source": [
        "\n",
        "**Percent earning less than London Living Wage (LLW) per hour for four random years**\n",
        "\n",
        "```\n",
        "\n",
        "```\n",
        "\n"
      ],
      "metadata": {
        "id": "Q08YHH9oEPGD"
      }
    },
    {
      "cell_type": "code",
      "source": [
        "ons_df1=ons_df.select('Areaname','20052','20107','201512','201829')\n",
        "ons_df1.show()"
      ],
      "metadata": {
        "colab": {
          "base_uri": "https://localhost:8080/"
        },
        "id": "9TLlgmd9rKgn",
        "outputId": "89ac0e35-69e9-4494-979d-94dd0d1d46f8"
      },
      "execution_count": 51,
      "outputs": [
        {
          "output_type": "stream",
          "name": "stdout",
          "text": [
            "+--------------------+-----+-----+------+------+\n",
            "|            Areaname|20052|20107|201512|201829|\n",
            "+--------------------+-----+-----+------+------+\n",
            "|      City of London|  2.9|    4|   6.4|   0.9|\n",
            "|Barking and Dagenham| 10.7| 13.7|    25|   4.8|\n",
            "|              Barnet| 16.6| 19.6|  28.3|   4.1|\n",
            "|              Bexley| 20.4| 24.3|  34.8|   4.6|\n",
            "|               Brent| 18.7| 24.3|    32|     4|\n",
            "|             Bromley| 25.3| 24.5|  27.2|   4.1|\n",
            "|              Camden|  6.7|  7.7|  13.2|   1.5|\n",
            "|             Croydon| 21.7| 16.1|  30.3|   3.6|\n",
            "|              Ealing| 15.3| 16.8|  26.6|   3.5|\n",
            "|             Enfield| 18.2| 19.9|  33.8|   4.7|\n",
            "|           Greenwich| 16.2| 12.7|  26.1|   4.2|\n",
            "|             Hackney| 11.1| 11.8|    24|   3.7|\n",
            "|Hammersmith and F...|   11| 12.4|  19.7|   1.9|\n",
            "|            Haringey| 15.9| 20.5|    32|   4.7|\n",
            "|              Harrow| 21.9| 22.7|    38|   5.5|\n",
            "|            Havering| 23.6| 18.5|  30.2|   4.3|\n",
            "|          Hillingdon| 12.5| 11.7|  20.5|   3.1|\n",
            "|            Hounslow| 17.4| 13.5|  19.2|   3.4|\n",
            "|           Islington|  7.7|  8.4|  13.4|   1.9|\n",
            "|Kensington and Ch...| 17.4| 13.2|  19.8|   3.3|\n",
            "+--------------------+-----+-----+------+------+\n",
            "only showing top 20 rows\n",
            "\n"
          ]
        }
      ]
    },
    {
      "cell_type": "code",
      "source": [
        "import pandas as pd\n",
        "import matplotlib.pyplot as plt\n",
        "\n",
        "#create data dictionary\n",
        "df1 = pd.DataFrame({'summary': ['2005', '2010', '2015','2018'],\n",
        "                   ' City of London': [ 2.9, 4, 6.4, 0.9],\n",
        "                   'Bexley': [20.4, 24.3, 34.8 , 4.6],\n",
        "                   'Ealing': [ 15.3, 16.8,26.6, 3.5],\n",
        "                   'Hounslow': [17.4, 13.5,19.2, 3.4]})\n",
        "\n",
        "index=['City of London','Bexley','Ealing','Hounslow']\n",
        "\n",
        "\n",
        "#plot columns on bar chart\n",
        "df1[['summary', ' City of London','Bexley','Ealing','Hounslow']].plot(x='summary', kind='bar',logy=False,figsize=(12,12))\n",
        "plt.xticks(fontsize=16)\n",
        "plt.yticks(fontsize=16)\n",
        "plt.xlabel('Year', fontsize=18,color='black')\n",
        "plt.ylabel('Data', fontsize=18,color='black')\n",
        "plt.title('Percent earning less than London Living Wage (LLW) per hour',fontsize=20,color='black')\n",
        "plt.legend(index,loc=\"upper right\",fontsize=10,edgecolor='red')\n",
        "plt.show()"
      ],
      "metadata": {
        "colab": {
          "base_uri": "https://localhost:8080/",
          "height": 774
        },
        "id": "kZSAT-G9pkqx",
        "outputId": "582c619f-e26e-44f9-9dd0-0eb3a7c5c630"
      },
      "execution_count": 55,
      "outputs": [
        {
          "output_type": "display_data",
          "data": {
            "text/plain": [
              "<Figure size 864x864 with 1 Axes>"
            ],
            "image/png": "[encoded data removed]"
          },
          "metadata": {
            "needs_background": "light"
          }
        }
      ]
    },
    {
      "cell_type": "code",
      "source": [
        "ons_df = spark.read.option(\"header\", \"true\").csv(\"/content/drive/MyDrive/ONS data Living wage/onsdata2.csv\")"
      ],
      "metadata": {
        "id": "WfUemGNu1qgB"
      },
      "execution_count": 56,
      "outputs": []
    },
    {
      "cell_type": "code",
      "source": [
        "ons_df.show()"
      ],
      "metadata": {
        "colab": {
          "base_uri": "https://localhost:8080/"
        },
        "id": "89WRi8Pq13MY",
        "outputId": "4d1c84e8-af94-4c1b-b712-a7ff466b3da9"
      },
      "execution_count": 57,
      "outputs": [
        {
          "output_type": "stream",
          "name": "stdout",
          "text": [
            "+----+-------+--------------+---+-------+---------------+---+-------+-----------------+---+--------+--------------------+----+--------+----------------+----+--------+------------------+----+--------+--------------------+----+--------+----------------+----+--------+------------------+----+\n",
            "| _c0|Number1|All employees%|CV3|Number4|Male employees%|CV6|Number7|Female employees%|CV9|Number10|Full-time employees%|CV12|Number13|Full-time males%|CV15|Number16|Full-time females%|CV18|Number19|Part-time employees%|CV21|Number22|Part-time males%|CV24|Number25|Part-time females%|CV27|\n",
            "+----+-------+--------------+---+-------+---------------+---+-------+-----------------+---+--------+--------------------+----+--------+----------------+----+--------+------------------+----+--------+--------------------+----+--------+----------------+----+--------+------------------+----+\n",
            "|2005|    446|          13.3|1.7|    188|           10.8|2.6|    258|             16.1|2.2|     206|                 7.7| 2.7|     107|             6.8| 3.6|     100|                 9| 3.9|     240|                  35|   2|      81|            44.4| 3.2|     158|              31.6| 2.6|\n",
            "|2006|    406|            12|1.3|    182|           10.3|1.9|    224|             13.8|1.7|     197|                 7.2|   2|     106|             6.7| 2.6|      91|               7.9| 2.9|     209|                31.3| 1.6|      76|            40.3| 2.5|     133|              27.8| 2.1|\n",
            "|2007|    446|          12.7|1.8|    200|           10.7|2.7|    246|             14.9|2.4|     217|                 7.6| 2.8|     118|             7.1| 3.7|      98|               8.5| 4.1|     229|                33.8| 2.3|      82|            41.9| 3.6|     147|              30.5| 2.9|\n",
            "|2008|    469|          12.8|1.8|    210|           10.9|2.7|    259|             15.1|2.3|     227|                 7.7| 2.8|     124|             7.1| 3.7|     103|               8.5| 4.1|     242|                34.1| 2.2|      87|            41.8| 3.5|     155|              30.9| 2.8|\n",
            "|2009|    454|          12.8|1.6|    204|           10.7|2.4|    250|             15.2|2.1|     208|                 7.3| 2.5|     111|             6.6| 3.5|      97|               8.4| 3.7|     245|                34.3| 1.9|      93|            41.5| 3.1|     153|                31| 2.5|\n",
            "|2010|    471|            13|1.5|    214|           11.1|2.3|    256|             15.3|  2|     211|                 7.4| 2.4|     117|             6.8| 3.3|      95|               8.1| 3.6|     259|                34.8| 1.9|      98|            41.8|   3|     162|              31.6| 2.4|\n",
            "|2011|    542|          14.8|1.4|    251|           12.6|  2|    291|             17.3|1.8|     246|                 8.5| 2.2|     140|             8.1| 2.9|     106|               9.1| 3.4|     296|                38.5| 1.6|     111|              45| 2.6|     186|              35.4| 2.1|\n",
            "|2012|    611|          16.7|1.3|    285|           14.5|1.9|    327|             19.1|1.7|     283|                 9.8| 2.1|     160|             9.4| 2.8|     123|              10.3| 3.1|     328|                  43| 1.5|     124|            50.3| 2.4|     203|              39.5| 1.9|\n",
            "|2013|    669|          17.4|1.2|    294|           14.5|1.9|    375|             20.6|1.6|     318|                10.5|   2|     173|             9.7| 2.7|     146|              11.6| 2.9|     350|                43.4| 1.5|     121|            48.7| 2.5|     229|              41.1| 1.9|\n",
            "|2014|    755|          19.1|1.1|    340|           16.5|1.7|    415|             22.1|1.5|     369|                11.9| 1.8|     193|            10.8| 2.5|     175|              13.4| 2.6|     386|                45.5| 1.4|     147|            53.8| 2.1|     240|              41.6| 1.8|\n",
            "|2015|    798|            20|1.1|    348|           16.6|1.8|    450|             23.8|1.5|     401|                12.7| 1.8|     211|            11.5| 2.5|     190|              14.4| 2.6|     396|                47.9| 1.4|     137|            52.7| 2.3|     260|              45.7| 1.7|\n",
            "|2016|    802|          19.5|1.1|    359|           16.7|1.8|    443|             22.5|1.5|     411|                12.6| 1.8|     217|            11.6| 2.5|     194|              14.1| 2.5|     390|                45.1| 1.4|     142|            51.1| 2.4|     249|              42.3| 1.8|\n",
            "|2017|    814|          19.4|1.2|    362|           16.4|1.8|    452|             22.6|1.5|     410|                12.3| 1.8|     219|            11.4| 2.5|     191|              13.7| 2.6|     404|                45.8| 1.5|     143|            50.9| 2.4|     260|              43.5| 1.8|\n",
            "|2018|    871|          20.5|1.1|    394|           17.2|1.8|    487|             24.1|1.4|     440|                13.1| 1.7|     231|            11.8| 2.4|     209|              14.8| 2.4|     431|                48.8| 1.4|     154|            53.8| 2.3|     277|              46.4| 1.7|\n",
            "|2019|    838|          19.7|1.1|    354|           16.3|1.9|    483|             23.3|1.4|     422|                12.6| 1.8|     212|            11.2| 2.5|     210|              14.4| 2.4|     416|                46.6| 1.4|     143|            51.5| 2.4|     273|              44.4| 1.7|\n",
            "|2020|    790|          19.5|1.4|    329|           15.9|2.5|    461|             23.3|1.8|     389|                12.2| 2.2|     190|            10.5| 3.3|     200|              14.4|   3|     401|                46.3| 1.7|     139|            51.1| 2.9|     262|              44.1| 2.1|\n",
            "|2021|    700|          17.2|1.5|    301|           14.4|2.4|    399|             20.2|1.9|     333|                10.4| 2.4|     162|               9| 3.5|     171|              12.1| 3.2|     367|                42.8| 1.8|     139|            48.6|   3|     228|                40| 2.3|\n",
            "+----+-------+--------------+---+-------+---------------+---+-------+-----------------+---+--------+--------------------+----+--------+----------------+----+--------+------------------+----+--------+--------------------+----+--------+----------------+----+--------+------------------+----+\n",
            "\n"
          ]
        }
      ]
    },
    {
      "cell_type": "markdown",
      "source": [
        "The estimated  % of employee jobs below the London living wage\n"
      ],
      "metadata": {
        "id": "5mfsebv0FHE4"
      }
    },
    {
      "cell_type": "code",
      "source": [
        "ons_df2=ons_df.select('_c0','Male employees%','Female employees%','Full-time males%','Full-time females%')\n",
        "ons_df2.show()"
      ],
      "metadata": {
        "colab": {
          "base_uri": "https://localhost:8080/"
        },
        "id": "rZYs_dM4367d",
        "outputId": "23df44a7-9bc3-4e4d-ab2b-9f531025629b"
      },
      "execution_count": 59,
      "outputs": [
        {
          "output_type": "stream",
          "name": "stdout",
          "text": [
            "+----+---------------+-----------------+----------------+------------------+\n",
            "| _c0|Male employees%|Female employees%|Full-time males%|Full-time females%|\n",
            "+----+---------------+-----------------+----------------+------------------+\n",
            "|2005|           10.8|             16.1|             6.8|                 9|\n",
            "|2006|           10.3|             13.8|             6.7|               7.9|\n",
            "|2007|           10.7|             14.9|             7.1|               8.5|\n",
            "|2008|           10.9|             15.1|             7.1|               8.5|\n",
            "|2009|           10.7|             15.2|             6.6|               8.4|\n",
            "|2010|           11.1|             15.3|             6.8|               8.1|\n",
            "|2011|           12.6|             17.3|             8.1|               9.1|\n",
            "|2012|           14.5|             19.1|             9.4|              10.3|\n",
            "|2013|           14.5|             20.6|             9.7|              11.6|\n",
            "|2014|           16.5|             22.1|            10.8|              13.4|\n",
            "|2015|           16.6|             23.8|            11.5|              14.4|\n",
            "|2016|           16.7|             22.5|            11.6|              14.1|\n",
            "|2017|           16.4|             22.6|            11.4|              13.7|\n",
            "|2018|           17.2|             24.1|            11.8|              14.8|\n",
            "|2019|           16.3|             23.3|            11.2|              14.4|\n",
            "|2020|           15.9|             23.3|            10.5|              14.4|\n",
            "|2021|           14.4|             20.2|               9|              12.1|\n",
            "+----+---------------+-----------------+----------------+------------------+\n",
            "\n"
          ]
        }
      ]
    },
    {
      "cell_type": "code",
      "source": [
        "import pandas as pd\n",
        "import matplotlib.pyplot as plt\n",
        "\n",
        "#create data dictionary\n",
        "df1 = pd.DataFrame({'summary': ['2018', '2019', '2020','2021'],\n",
        "                   ' Male employees%': [ 2.9, 4, 6.4, 0.9],\n",
        "                   'Female employees%': [20.4, 24.3, 34.8 , 4.6],\n",
        "                   'Full-time males%': [ 15.3, 16.8,26.6, 3.5],\n",
        "                   'Full-time females%': [17.4, 13.5,19.2, 3.4]})\n",
        "\n",
        "index=['Male employees%','Female employees%','Full-time males%','Full-time females%']\n",
        "\n",
        "\n",
        "#plot columns on bar chart\n",
        "df1[['summary', ' Male employees%','Female employees%','Full-time males%','Full-time females%']].plot(x='summary', kind='barh',logy=False,figsize=(12,12))\n",
        "plt.xticks(fontsize=16)\n",
        "plt.yticks(fontsize=16)\n",
        "plt.xlabel('Data', fontsize=18,color='black')\n",
        "plt.ylabel('Year', fontsize=18,color='black')\n",
        "plt.title('The estimated  % of employee jobs below the London living wage',fontsize=20,color='black')\n",
        "plt.legend(index,loc=\"upper right\",fontsize=10,edgecolor='red')\n",
        "plt.show()"
      ],
      "metadata": {
        "colab": {
          "base_uri": "https://localhost:8080/",
          "height": 748
        },
        "id": "UGqk67Hq74G-",
        "outputId": "df62ead4-8358-4b18-d755-abeccff0399c"
      },
      "execution_count": 64,
      "outputs": [
        {
          "output_type": "display_data",
          "data": {
            "text/plain": [
              "<Figure size 864x864 with 1 Axes>"
            ],
            "image/png": "[encoded data removed]"
          },
          "metadata": {
            "needs_background": "light"
          }
        }
      ]
    }
  ]
}